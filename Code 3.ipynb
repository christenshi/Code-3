{
 "cells": [
  {
   "cell_type": "code",
   "execution_count": 1,
   "id": "00d61896",
   "metadata": {},
   "outputs": [
    {
     "name": "stdout",
     "output_type": "stream",
     "text": [
      "Enter your name: Christian\n",
      "Hello, Christian! Nice to meet you.\n",
      "Hello, Christian! Nice to meet you.\n"
     ]
    }
   ],
   "source": [
    "# problem 1\n",
    "name = input(\"Enter your name: \")\n",
    "print(f\"Hello, {name}! Nice to meet you.\")\n",
    "print(\"Hello, \"+ name + \"! Nice to meet you.\")"
   ]
  },
  {
   "cell_type": "code",
   "execution_count": 3,
   "id": "45f3267f",
   "metadata": {},
   "outputs": [
    {
     "name": "stdout",
     "output_type": "stream",
     "text": [
      "Enter a word: cat\n",
      "Reversed word: tac.\n"
     ]
    }
   ],
   "source": [
    "# problem 2\n",
    "word = input (\"Enter a word: \")\n",
    "reversed_word = word[::-1]\n",
    "print(f\"Reversed word: {reversed_word}.\")"
   ]
  },
  {
   "cell_type": "code",
   "execution_count": 4,
   "id": "e7dcdd51",
   "metadata": {},
   "outputs": [
    {
     "name": "stdout",
     "output_type": "stream",
     "text": [
      "Enter a sentence: This is a sample sentence\n",
      "this sentence has 25 characters.\n"
     ]
    }
   ],
   "source": [
    "# problem 3\n",
    "sentence = input(\"Enter a sentence: \")\n",
    "char_count = len(sentence)\n",
    "print(f\"this sentence has {char_count} characters.\")"
   ]
  },
  {
   "cell_type": "code",
   "execution_count": 5,
   "id": "58ae9a5f",
   "metadata": {},
   "outputs": [
    {
     "name": "stdout",
     "output_type": "stream",
     "text": [
      "Enter a word or a sentence: This is a sample sentence.\n",
      "Number of vowels is 8.\n"
     ]
    }
   ],
   "source": [
    "# problem 4 \n",
    "string = input(\"Enter a word or a sentence: \")\n",
    "\n",
    "string_lower = string.lower()\n",
    "\n",
    "a_count = string_lower.count('a')\n",
    "e_count = string_lower.count('e')\n",
    "i_count = string_lower.count('i')\n",
    "o_count = string_lower.count('o')\n",
    "u_count = string_lower.count('u')\n",
    "\n",
    "vowel_count = a_count + e_count + i_count + o_count + u_count\n",
    "\n",
    "print(f\"Number of vowels is {vowel_count}.\")"
   ]
  },
  {
   "cell_type": "code",
   "execution_count": 6,
   "id": "747fff0d",
   "metadata": {},
   "outputs": [
    {
     "name": "stdout",
     "output_type": "stream",
     "text": [
      "Enter a word: racecar\n",
      "This word is a palindrome.\n"
     ]
    }
   ],
   "source": [
    "# problem 5\n",
    "word_to_check = input(\"Enter a word: \")\n",
    "word_palindrome = word_to_check.upper()\n",
    "\n",
    "if word_palindrome == word_palindrome[::-1]:\n",
    "    print(f\"This word is a palindrome.\")\n",
    "else:\n",
    "    print(f\"This word is not a palindrome.\")"
   ]
  },
  {
   "cell_type": "code",
   "execution_count": 7,
   "id": "223d564b",
   "metadata": {},
   "outputs": [
    {
     "name": "stdout",
     "output_type": "stream",
     "text": [
      "Enter your secret message: secret message\n",
      "Encrypted secret message: SECRET_MESSAGE.\n"
     ]
    }
   ],
   "source": [
    "secret_message = input(\"Enter your secret message: \")\n",
    "encrypted = secret_message.upper().replace(\" \", \"_\")\n",
    "print(f\"Encrypted secret message: {encrypted}.\")"
   ]
  },
  {
   "cell_type": "code",
   "execution_count": null,
   "id": "e2961691",
   "metadata": {},
   "outputs": [],
   "source": []
  }
 ],
 "metadata": {
  "kernelspec": {
   "display_name": "Python 3 (ipykernel)",
   "language": "python",
   "name": "python3"
  },
  "language_info": {
   "codemirror_mode": {
    "name": "ipython",
    "version": 3
   },
   "file_extension": ".py",
   "mimetype": "text/x-python",
   "name": "python",
   "nbconvert_exporter": "python",
   "pygments_lexer": "ipython3",
   "version": "3.11.4"
  }
 },
 "nbformat": 4,
 "nbformat_minor": 5
}
